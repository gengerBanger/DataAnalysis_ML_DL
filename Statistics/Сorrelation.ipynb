{
  "nbformat": 4,
  "nbformat_minor": 0,
  "metadata": {
    "colab": {
      "provenance": []
    },
    "kernelspec": {
      "name": "python3",
      "display_name": "Python 3"
    },
    "language_info": {
      "name": "python"
    }
  },
  "cells": [
    {
      "cell_type": "markdown",
      "source": [
        "# Задачи на коэффициент Пирсона\n",
        "\n",
        "\n",
        "1.   Имеются данные о росте и весе учеников в классе. Найдите коэффициент корреляции Пирсона между этими двумя переменными. Сделайте вывод о том, существует ли линейная связь между ростом и весом.\n",
        "\n",
        "    рост = [155, 160, 165, 170, 175]\n",
        "\n",
        "    вес = [50, 55, 60, 65, 70]\n",
        "2.   У вас есть данные об оценках студентов по математике и физике за семестр. Рассчитайте корреляцию Пирсона между этими предметами. Проанализируйте, насколько сильно эти предметы коррелируют между собой.\n",
        "\n",
        "    оценки_математика = [80, 85, 75, 90, 95]\n",
        "\n",
        "    оценки_физика = [70, 75, 65, 85, 90]\n",
        "3. Проведите опрос сотрудников о количестве часов сна, которые они получают в неделю, и оцените их производительность на работе. Определите, существует ли корреляция между количеством часов сна и производительностью на работе.\n",
        "\n",
        "    часы_сна = [7, 6, 8, 5, 9]\n",
        "\n",
        "    производительность = [80, 70, 85, 65, 90]\n",
        "\n"
      ],
      "metadata": {
        "id": "6KejiwFycwc5"
      }
    },
    {
      "cell_type": "code",
      "source": [
        "import numpy as np\n",
        "height = [155, 160, 165, 170, 175]\n",
        "weight = [50, 55, 60, 65, 70]\n",
        "\n",
        "corr = np.corrcoef(height, weight)[0][1]\n",
        "print(corr)"
      ],
      "metadata": {
        "colab": {
          "base_uri": "https://localhost:8080/"
        },
        "id": "t5IrAdNrdJ9Z",
        "outputId": "83738180-5d23-4ab9-c818-b2fc65d47321"
      },
      "execution_count": null,
      "outputs": [
        {
          "output_type": "stream",
          "name": "stdout",
          "text": [
            "1.0\n"
          ]
        }
      ]
    },
    {
      "cell_type": "code",
      "source": [
        "math = [80, 85, 75, 90, 95]\n",
        "physics = [70, 75, 65, 85, 90]\n",
        "corr = np.corrcoef(math, physics)\n",
        "print(corr)"
      ],
      "metadata": {
        "colab": {
          "base_uri": "https://localhost:8080/"
        },
        "id": "Y-CbtL1feElE",
        "outputId": "5dfda193-adcf-4328-d7f1-fbf5ade2a1ca"
      },
      "execution_count": null,
      "outputs": [
        {
          "output_type": "stream",
          "name": "stdout",
          "text": [
            "[[1.         0.99124071]\n",
            " [0.99124071 1.        ]]\n"
          ]
        }
      ]
    },
    {
      "cell_type": "code",
      "source": [
        "sleep_time = [7, 6, 8, 5, 9]\n",
        "work_quality = [80, 70, 85, 65, 90]\n",
        "corr = np.corrcoef(sleep_time, work_quality)\n",
        "print(corr)"
      ],
      "metadata": {
        "colab": {
          "base_uri": "https://localhost:8080/"
        },
        "id": "EhSHsieTengm",
        "outputId": "fda33823-4b04-4e79-97ab-f40b74dbf7dd"
      },
      "execution_count": null,
      "outputs": [
        {
          "output_type": "stream",
          "name": "stdout",
          "text": [
            "[[1.         0.99124071]\n",
            " [0.99124071 1.        ]]\n"
          ]
        }
      ]
    }
  ]
}